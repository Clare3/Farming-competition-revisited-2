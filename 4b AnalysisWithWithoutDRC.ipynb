{
 "cells": [
  {
   "cell_type": "code",
   "execution_count": null,
   "metadata": {
    "collapsed": true
   },
   "outputs": [],
   "source": [
    "# Hello!\n",
    "# In DRC they grow far more crops than elsewhere, so I want to separate the parts for cropdiv"
   ]
  },
  {
   "cell_type": "code",
   "execution_count": null,
   "metadata": {
    "collapsed": true
   },
   "outputs": [],
   "source": [
    "import pandas as pd\n",
    "import numpy as np\n",
    "import seaborn as sns\n",
    "import matplotlib.pyplot as plt\n",
    "% matplotlib inline\n",
    "from scipy.stats import pearsonr\n",
    "import statsmodels.api as sm"
   ]
  },
  {
   "cell_type": "code",
   "execution_count": null,
   "metadata": {
    "collapsed": true
   },
   "outputs": [],
   "source": [
    "def normalise(dataframe):\n",
    "    for i in dataframe.columns:\n",
    "        (m,s) = (dataframe[i].mean(), dataframe[i].std())\n",
    "        dataframe.loc[:,i]=dataframe.loc[:,i]-m\n",
    "        dataframe.loc[:,i]=np.divide(dataframe.loc[:,i],s)\n",
    "        print (\"for column \",str(i), \", the mean was \",m,\" and the standard deviation was \",s)\n",
    "    return dataframe"
   ]
  },
  {
   "cell_type": "code",
   "execution_count": null,
   "metadata": {
    "collapsed": true
   },
   "outputs": [],
   "source": [
    "def norm_series(series):\n",
    "    (m,s) = (series.mean(), series.std())\n",
    "    series=series-m\n",
    "    series=np.divide(series,s)\n",
    "    return series"
   ]
  },
  {
   "cell_type": "code",
   "execution_count": null,
   "metadata": {
    "collapsed": true
   },
   "outputs": [],
   "source": [
    "indicators = pd.read_csv(\"3PCAonImputedValues_output\",encoding = \"ISO-8859-1\")"
   ]
  },
  {
   "cell_type": "code",
   "execution_count": null,
   "metadata": {},
   "outputs": [],
   "source": [
    "analysis = None\n",
    "possible_analyses = [\"PCA\",\"PAF\"]\n",
    "analysis = input(\"PCA or PAF? \")\n",
    "while (analysis in possible_analyses) == False:\n",
    "    analysis = input(\"You have to choose PCA or PAF.\\n PCA or PAF? \")"
   ]
  },
  {
   "cell_type": "code",
   "execution_count": null,
   "metadata": {},
   "outputs": [],
   "source": [
    "# name the important columns, and normalise them so that the unit is standard deviations from the mean\n",
    "if analysis == 'PCA':\n",
    "    factors_temp = normalise(indicators[['Food Security PCA','Diet Quality PCA','Money PCA']])\n",
    "    factors_temp.rename(columns={'Food Security PCA':'Food Security Factor','Diet Quality PCA':'Diet Quality Factor',\n",
    "                                 'Money PCA':'Money Factor'}, inplace=True)\n",
    "    \n",
    "else:\n",
    "    factors_temp = normalise(indicators[['Food Security PAF','Diet Quality PAF','Money PAF']])\n",
    "    factors_temp.rename(columns={'Food Security PAF':'Food Security Factor','Diet Quality PAF':'Diet Quality Factor',\n",
    "                                 'Money PAF':'Money Factor'}, inplace=True)\n",
    "\n",
    "indicators = pd.concat([indicators, factors_temp],axis=1)\n"
   ]
  },
  {
   "cell_type": "code",
   "execution_count": null,
   "metadata": {
    "collapsed": true
   },
   "outputs": [],
   "source": [
    "factors=['Food Security Factor','Diet Quality Factor','Money Factor']"
   ]
  },
  {
   "cell_type": "code",
   "execution_count": null,
   "metadata": {},
   "outputs": [],
   "source": [
    "# Get ready to group by village\n",
    "indicators['Region'].fillna('Not recorded', inplace=True)\n",
    "indicators['Village'].fillna('None', inplace=True)\n",
    "indicators['Coun Reg Vill']=indicators['Country']+indicators['Region']+indicators['Village'].astype(str)\n",
    "#indicators.head()"
   ]
  },
  {
   "cell_type": "code",
   "execution_count": null,
   "metadata": {
    "collapsed": true
   },
   "outputs": [],
   "source": [
    "def ols_params(x,y):\n",
    "    testmod = sm.OLS(y,sm.add_constant(x))\n",
    "    tes = testmod.fit()\n",
    "    a = tes.params[1]\n",
    "    s = tes.bse[1]\n",
    "    rsq = tes.rsquared\n",
    "    return (a,s, rsq)"
   ]
  },
  {
   "cell_type": "code",
   "execution_count": null,
   "metadata": {
    "collapsed": true
   },
   "outputs": [],
   "source": [
    "# get rid of the small number of missing values\n",
    "indi=indicators[indicators['CropDiv']<10000]\n",
    "indic_DRC = indi[indi['Country']=='DRC']\n",
    "indic_rest = indi[indi['Country']!='DRC']"
   ]
  },
  {
   "cell_type": "code",
   "execution_count": null,
   "metadata": {},
   "outputs": [],
   "source": [
    "# Look at crop diversity against the factors.\n",
    "def factors_cropdiv_household(data, save=None, alpha=.03):\n",
    "    fig = plt.figure(figsize = (10,10))\n",
    "    ax = fig.subplots(3)\n",
    "    corrs = ['CropDiv','Money Factor','Food Security Factor','Diet Quality Factor']\n",
    "    ax[2].scatter(x=data['CropDiv'],y= data['Money Factor'], alpha = alpha)\n",
    "    ax[2].set_ylabel('Money Factor')\n",
    "    ax[0].scatter(x=data['CropDiv'],y= data['Diet Quality Factor'], alpha=alpha)\n",
    "    ax[0].set_ylabel('Diet Quality Factor')\n",
    "    ax[1].scatter(x=data['CropDiv'],y= data['Food Security Factor'], alpha=alpha)\n",
    "    ax[1].set_ylabel('Food Security Factor')\n",
    "\n",
    "\n",
    "    for i in range (3):\n",
    "        ax[i].set_xlabel('Household crop diversity')\n",
    "        r=pearsonr(data[corrs[0]],data[corrs[1+i]])\n",
    "        (a,s, Rsq)=ols_params(data['CropDiv'], data[corrs[1+i]])\n",
    "        fig.text(.6,.14+.265*i,'Corr coeff: '+str(round(r[0],3))+' Sig level: '+str(round(r[1],5))+' n = '+str(len(data))+\n",
    "                  '\\nReg coeff: '+str(round(a,3))+' Std err: '+str(round(s,3))+' Rsq: '+str(round(Rsq,3)))\n",
    "    if save:\n",
    "        if analysis == \"PAF\":\n",
    "            fig.savefig(str('4b PAF '+save))\n",
    "        else:\n",
    "            fig.savefig(str('4b PCA '+save))"
   ]
  },
  {
   "cell_type": "code",
   "execution_count": null,
   "metadata": {},
   "outputs": [],
   "source": [
    "factors_cropdiv_household(indic_DRC, alpha = .3, save='factors DRC by household')\n",
    "factors_cropdiv_household(indic_rest, save='factors without DRC by household')"
   ]
  },
  {
   "cell_type": "code",
   "execution_count": null,
   "metadata": {
    "collapsed": true
   },
   "outputs": [],
   "source": [
    "first_grouping_DRC = indic_DRC[['CropDiv','Food Security Factor',\n",
    "       'Diet Quality Factor', 'Money Factor', 'Coun Reg Vill']].groupby('Coun Reg Vill').mean()\n",
    "first_grouping_rest = indic_rest[['CropDiv','Food Security Factor',\n",
    "       'Diet Quality Factor', 'Money Factor', 'Coun Reg Vill']].groupby('Coun Reg Vill').mean()"
   ]
  },
  {
   "cell_type": "code",
   "execution_count": null,
   "metadata": {
    "collapsed": true
   },
   "outputs": [],
   "source": [
    "# Repeat the scatter graphs by village, not by household\n",
    "# The correlation coefficients are now much larger, and the shapes can be seen on the scatter graphs\n",
    "def factors_cropdiv_village(data, save=None, alpha=0.3):\n",
    "    fig = plt.figure(figsize = (10,12))\n",
    "    axes = fig.subplots(3, gridspec_kw={'hspace':.4})\n",
    "    for i in range(3):\n",
    "        axes[i].scatter(x=data['CropDiv'], y=data[data.columns[1+i]], alpha = alpha)\n",
    "        axes[i].set_ylabel(str(data.columns[1+i]))\n",
    "        axes[i].set_xlabel('Average crop diversity in village')\n",
    "        rp = pearsonr(data['CropDiv'], data[data.columns[1+i]])\n",
    "        r = round(rp[0], 3)\n",
    "        p=round(rp[1],5)\n",
    "        (a, s, Rsq) = ols_params(data['CropDiv'], data[data.columns[1+i]])\n",
    "        fig.text(.58,.69-.28*i,'Corr coef: '+str(r)+' Sig level: '+str(p)+\n",
    "                     ' (n = '+str(len(data))+')'+\n",
    "                  '\\nReg coeff: '+str(round(a,3))+' Std err: '+str(round(s,3))+' Rsq: '+str(round(Rsq,3)))\n",
    "    if save:\n",
    "        if analysis=='PCA':\n",
    "            fig.savefig('4b PCA '+save)\n",
    "        else:\n",
    "            fig.savefig('4b PAF '+save)"
   ]
  },
  {
   "cell_type": "code",
   "execution_count": null,
   "metadata": {},
   "outputs": [],
   "source": [
    "factors_cropdiv_village(first_grouping_DRC, alpha=.6, save = 'factors DRC by village')\n",
    "factors_cropdiv_village(first_grouping_rest, save = 'factors without DRC by village')"
   ]
  },
  {
   "cell_type": "code",
   "execution_count": null,
   "metadata": {
    "collapsed": true
   },
   "outputs": [],
   "source": [
    "# next, I want to split it up by market orientation\n",
    "# I had 4 market orientation quartiles before.\n",
    "prep_DRC=indic_DRC[indic_DRC['FAMarketOrientation']<1.1]\n",
    "prep_rest=indic_rest[indic_rest['FAMarketOrientation']<1.1]\n",
    "\n",
    "second_grouping_DRC = prep_DRC[['CropDiv','Food Security Factor',\n",
    "       'Diet Quality Factor', 'Money Factor', 'Coun Reg Vill', 'FAMarketOrientation']].groupby('Coun Reg Vill').mean()\n",
    "second_grouping_rest = prep_rest[['CropDiv','Food Security Factor',\n",
    "       'Diet Quality Factor', 'Money Factor', 'Coun Reg Vill', 'FAMarketOrientation']].groupby('Coun Reg Vill').mean()"
   ]
  },
  {
   "cell_type": "code",
   "execution_count": null,
   "metadata": {
    "collapsed": true
   },
   "outputs": [],
   "source": [
    "# make market orientation quartile columns\n",
    "def quartile(data, column, name=None):\n",
    "    if name:\n",
    "        quart=name\n",
    "    else:\n",
    "        quart=str(column)+'quartile'\n",
    "    data[quart]=0\n",
    "    for j in range(4):\n",
    "        q = data[column].quantile(0.25*(j+1))\n",
    "        data[quart]=np.where(data[column]>q, data[quart]+1, data[quart])\n",
    "    return data\n",
    "    \n",
    "#second_grouping_l['MAQuartile']=0\n",
    "#for j in range(4):\n",
    " #   print(second_grouping[['FAMarketOrientation','MAQuartile']][11:20])\n",
    " #   q = second_grouping_l['FAMarketOrientation'].quantile(0.25*(j+1))\n",
    "  #  print(q)\n",
    "  #  second_grouping_l['MAQuartile']=np.where(second_grouping_l['FAMarketOrientation']>q, second_grouping_l['MAQuartile']+1, second_grouping_l['MAQuartile'])\n",
    "    \n"
   ]
  },
  {
   "cell_type": "code",
   "execution_count": null,
   "metadata": {},
   "outputs": [],
   "source": [
    "MAQuartile_grouping_DRC = quartile(second_grouping_DRC, 'FAMarketOrientation',name = 'MAQuartile') \n",
    "MAQuartile_grouping_rest = quartile(second_grouping_rest, 'FAMarketOrientation',name = 'MAQuartile') "
   ]
  },
  {
   "cell_type": "code",
   "execution_count": null,
   "metadata": {},
   "outputs": [],
   "source": [
    "def crop_fac_vill_quart(data, quartilecol, save=None, alpha=.6):\n",
    "    fig=plt.figure(figsize=(12,12))\n",
    "    colours = ('red','orange','green','blue')\n",
    "    for i in range(3):\n",
    "        axs=fig.add_axes([.07,0.667-0.333*i+.05,.63,0.22])\n",
    "        for j in range(4):\n",
    "            grouping = data[data[quartilecol]==j]\n",
    "            axs.scatter(x=grouping['CropDiv'], y=grouping[grouping.columns[1+i]], alpha = alpha, color=colours[j])\n",
    "            axs.set_ylabel(str(grouping.columns[1+i]))\n",
    "            axs.set_xlabel('Average crop diversity in village')\n",
    "            rp = pearsonr(grouping['CropDiv'], grouping[grouping.columns[1+i]])\n",
    "            r = round(rp[0],3)\n",
    "            p = round(rp[1],5)\n",
    "            n = len(grouping)\n",
    "            (a,s,Rsq) = ols_params(grouping['CropDiv'], grouping[grouping.columns[1+i]])\n",
    "            fig.text(0.72, .89-0.33*i-0.05*j,quartilecol+' '+str(j+1)+': n = '+str(n)+'\\n   r = '+str(r)+'; p = '+str(p)+'\\n   reg = '\n",
    "                         +str(round(a,3))+'; se = '+str(round(s,3))+\n",
    "                         '; Rsq = '+str(round(Rsq,3)), color=colours[j])\n",
    "    if save:\n",
    "        if analysis == 'PCA':\n",
    "            fig.savefig('4b PCA '+save)\n",
    "        else:\n",
    "            fig.savefig('4b PAF '+save)"
   ]
  },
  {
   "cell_type": "code",
   "execution_count": null,
   "metadata": {},
   "outputs": [],
   "source": [
    "crop_fac_vill_quart(MAQuartile_grouping_DRC, 'MAQuartile', save='crop by village by MA DRC')"
   ]
  },
  {
   "cell_type": "code",
   "execution_count": null,
   "metadata": {},
   "outputs": [],
   "source": [
    "crop_fac_vill_quart(MAQuartile_grouping_rest, 'MAQuartile', save='crop by village by MA rest')"
   ]
  },
  {
   "cell_type": "code",
   "execution_count": null,
   "metadata": {},
   "outputs": [],
   "source": [
    "MAQuartile_DRC = quartile(prep_DRC, 'FAMarketOrientation',name = 'MAQuartile') \n",
    "MAQuartile_rest = quartile(prep_rest, 'FAMarketOrientation',name = 'MAQuartile') "
   ]
  },
  {
   "cell_type": "code",
   "execution_count": null,
   "metadata": {},
   "outputs": [],
   "source": [
    "def crop_fac_quarts_grid(data, quartilecol, save=None, alpha=.07):\n",
    "    fig = plt.figure(figsize = (16,12))\n",
    "    colours = ('red','orange','green','blue')\n",
    "    for i in range(3):\n",
    "        for j in range(4):\n",
    "            axes=fig.add_axes([.07+0.24*j,0.667-0.333*i+.05,.19,0.22])\n",
    "            grouping = data[data[quartilecol]==j]\n",
    "            axes.scatter(x=grouping['CropDiv'], y=grouping[factors[i]], alpha = alpha, color=colours[j])\n",
    "            axes.set_ylabel(str(factors[i]))\n",
    "            axes.set_xlabel('Crop diversity')\n",
    "            rp = pearsonr(grouping['CropDiv'], grouping[factors[i]])\n",
    "            r = round(rp[0],3)\n",
    "            p = round(rp[1],5)\n",
    "            n = len(grouping)\n",
    "            (a,s,Rsq)=ols_params(grouping['CropDiv'], grouping[factors[i]])\n",
    "            axes.set_title('MA Quartile '+str(j+1)+': reg = '\n",
    "                         +str(round(a,3))+'; se = '+str(round(s,3))+\n",
    "                         ';\\n Rsq = '+str(round(Rsq,3))+' (n = '+str(n)+')'+'\\n   r = '+str(r)+'; p = '+str(p), color=colours[j], size=10)\n",
    "    if save:\n",
    "        if analysis == 'PCA':\n",
    "            fig.savefig('4b PCA '+save)\n",
    "        else:\n",
    "            fig.savefig('4b PAF ' +save)"
   ]
  },
  {
   "cell_type": "code",
   "execution_count": null,
   "metadata": {},
   "outputs": [],
   "source": [
    "crop_fac_quarts_grid(MAQuartile_DRC, 'MAQuartile', alpha=.35, save = 'MA household grid DRC')"
   ]
  },
  {
   "cell_type": "code",
   "execution_count": null,
   "metadata": {},
   "outputs": [],
   "source": [
    "crop_fac_quarts_grid(MAQuartile_rest, 'MAQuartile', save = 'MA household grid without DRC')"
   ]
  },
  {
   "cell_type": "code",
   "execution_count": null,
   "metadata": {
    "collapsed": true
   },
   "outputs": [],
   "source": []
  },
  {
   "cell_type": "code",
   "execution_count": null,
   "metadata": {
    "collapsed": true
   },
   "outputs": [],
   "source": [
    "zero_grouping_DRC = indic_DRC[['CropDiv','HFIAS_code','NrofMonthsFoodInsecure','score_HDDSBadSeason','score_HDDSGoodSeason', 'Coun Reg Vill']].groupby('Coun Reg Vill').mean()\n",
    "zero_grouping_rest = indic_rest[['CropDiv','HFIAS_code','NrofMonthsFoodInsecure','score_HDDSBadSeason','score_HDDSGoodSeason', 'Coun Reg Vill']].groupby('Coun Reg Vill').mean()"
   ]
  },
  {
   "cell_type": "code",
   "execution_count": null,
   "metadata": {
    "collapsed": true
   },
   "outputs": [],
   "source": [
    "def grid_graphs(x, y_list, dataframe, save=None, size = 3, graph = 'scatter', alpha = .1, title=None):\n",
    "    y=len(y_list)\n",
    "    fig = plt.figure(figsize = (size*3,size*y))\n",
    "    ax=[]\n",
    "    for j in range(y):\n",
    "        data = dataframe[[x,y_list[j]]].dropna()\n",
    "        ax.append(fig.add_axes([0.1, 1-np.divide(j,y)-0.75*np.divide(1,y), 0.5, 0.75*np.divide(1,y)]))\n",
    "        if graph=='hexbin':\n",
    "            ax[j].hexbin(data[x],data[y_list[j]], gridsize=int(0.5*max(data[x])), cmap='Greens')\n",
    "        elif graph=='scatter':\n",
    "            ncirc = max(np.divide(len(data[x].unique()),1.8), np.divide(len(data[y_list[j]].unique()),0.8))\n",
    "            if ncirc < 25:\n",
    "                ax[j].scatter(data[x],data[y_list[j]], alpha = alpha, s=np.divide(12000,ncirc*ncirc))\n",
    "            else:\n",
    "                ax[j].scatter(data[x],data[y_list[j]], alpha = alpha)\n",
    "        else:\n",
    "            print('must be hexbin or scatter')\n",
    "            return()\n",
    "        ax[j].set_ylabel(y_list[j])\n",
    "        ax[j].set_xlabel(x)\n",
    "        if title:\n",
    "            ax[j].set_title(title)\n",
    "        rp = pearsonr(data[x], data[y_list[j]])\n",
    "        r = round(rp[0], 3)\n",
    "        p=round(rp[1],5)\n",
    "        (a, s, Rsq) = ols_params(data[x], data[y_list[j]])\n",
    "        (A, S, RSQ) = ols_params(data[x], norm_series(data[y_list[j]]))\n",
    "        fig.text(0.6*1.01,1-0.9*np.divide(1,y)-np.divide(j,y)+0.8*np.divide(1,y)*0.8,'Corr coef: '+str(r)+' Sig level: '+str(p)+\n",
    "                   ' (n = '+str(len(data))+')'+'\\nReg coeff: '+str(round(a,3))+' Std err: '+str(round(s,3))+' Rsq: '+\n",
    "                   str(round(Rsq,3))+'\\nNormalised Reg: '+str(round(A,3))+' Std err: '+str(round(S,3)))    \n",
    "    if save:\n",
    "        fig.savefig(save)"
   ]
  },
  {
   "cell_type": "code",
   "execution_count": null,
   "metadata": {},
   "outputs": [],
   "source": [
    "grid_graphs('CropDiv', ['HFIAS_code','NrofMonthsFoodInsecure','score_HDDSBadSeason','score_HDDSGoodSeason'],indic_DRC, \n",
    "            graph = 'scatter', alpha=.1, save = '4b crop diversity by indicators houdehold level DRC',\n",
    "           title = 'All available households in DRC')"
   ]
  },
  {
   "cell_type": "code",
   "execution_count": null,
   "metadata": {},
   "outputs": [],
   "source": [
    "grid_graphs('CropDiv', ['HFIAS_code','NrofMonthsFoodInsecure','score_HDDSBadSeason','score_HDDSGoodSeason'],indic_rest, \n",
    "            graph = 'scatter', alpha=.008, save = '4b crop diversity by indicators houdehold level without DRC',\n",
    "           title='All available households except DRC')"
   ]
  },
  {
   "cell_type": "code",
   "execution_count": null,
   "metadata": {},
   "outputs": [],
   "source": [
    "grid_graphs('CropDiv', ['HFIAS_code','NrofMonthsFoodInsecure','score_HDDSBadSeason','score_HDDSGoodSeason'],zero_grouping_DRC, \n",
    "            graph = 'scatter', save = '4b crop diversity by indicators village level DRC', alpha=.35,\n",
    "           title = 'Grouped by village in DRC')"
   ]
  },
  {
   "cell_type": "code",
   "execution_count": null,
   "metadata": {},
   "outputs": [],
   "source": [
    "grid_graphs('CropDiv', ['HFIAS_code','NrofMonthsFoodInsecure','score_HDDSBadSeason','score_HDDSGoodSeason'],zero_grouping_rest, \n",
    "            graph = 'scatter',save = '4b crop diversity by indicators village level without DRC', alpha=.2,\n",
    "           title='Grouped by village without DRC')"
   ]
  },
  {
   "cell_type": "code",
   "execution_count": null,
   "metadata": {
    "collapsed": true
   },
   "outputs": [],
   "source": []
  }
 ],
 "metadata": {
  "kernelspec": {
   "display_name": "Python 3",
   "language": "python",
   "name": "python3"
  },
  "language_info": {
   "codemirror_mode": {
    "name": "ipython",
    "version": 3
   },
   "file_extension": ".py",
   "mimetype": "text/x-python",
   "name": "python",
   "nbconvert_exporter": "python",
   "pygments_lexer": "ipython3",
   "version": "3.6.3"
  }
 },
 "nbformat": 4,
 "nbformat_minor": 2
}
