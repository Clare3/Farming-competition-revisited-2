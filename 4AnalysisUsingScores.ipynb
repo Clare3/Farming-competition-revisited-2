{
 "cells": [
  {
   "cell_type": "code",
   "execution_count": null,
   "metadata": {
    "collapsed": true
   },
   "outputs": [],
   "source": [
    "# Hello!\n",
    "# So I want to look at crop diversity against the factor scores\n",
    "# And livestock diversity\n",
    "# And break this down by market orientation\n",
    "\n",
    "# Confirms use of PAF and PCA largely equivalent, but PCA is easier for interpretation\n",
    "# regression coefficients are larger because loadings are larger so scores are larger (see scales)"
   ]
  },
  {
   "cell_type": "code",
   "execution_count": null,
   "metadata": {
    "collapsed": true
   },
   "outputs": [],
   "source": [
    "import pandas as pd\n",
    "import numpy as np\n",
    "import seaborn as sns\n",
    "import matplotlib.pyplot as plt\n",
    "% matplotlib inline\n",
    "from scipy.stats import pearsonr\n",
    "import statsmodels.api as sm"
   ]
  },
  {
   "cell_type": "code",
   "execution_count": null,
   "metadata": {},
   "outputs": [],
   "source": [
    "def normalise(dataframe):\n",
    "    for i in dataframe.columns:\n",
    "        (m,s) = (dataframe[i].mean(), dataframe[i].std())\n",
    "        dataframe.loc[:,i]=dataframe.loc[:,i]-m\n",
    "        dataframe.loc[:,i]=np.divide(dataframe.loc[:,i],s)\n",
    "        print (\"for column \",str(i), \", the mean was \",m,\" and the standard deviation was \",s)\n",
    "    return dataframe"
   ]
  },
  {
   "cell_type": "code",
   "execution_count": null,
   "metadata": {},
   "outputs": [],
   "source": [
    "indicators = pd.read_csv(\"3PCAonImputedValues_output\",encoding = \"ISO-8859-1\")"
   ]
  },
  {
   "cell_type": "code",
   "execution_count": null,
   "metadata": {},
   "outputs": [],
   "source": [
    "analysis = None\n",
    "possible_analyses = [\"PCA\",\"PAF\"]\n",
    "analysis = input(\"PCA or PAF? \")\n",
    "while (analysis in possible_analyses) == False:\n",
    "    analysis = input(\"You have to choose PCA or PAF.\\n PCA or PAF? \")"
   ]
  },
  {
   "cell_type": "code",
   "execution_count": null,
   "metadata": {},
   "outputs": [],
   "source": [
    "# name the important columns, and normalise them so that the unit is standard deviations from the mean\n",
    "if analysis == 'PCA':\n",
    "    factors_temp = normalise(indicators[['Food Security PCA','Diet Quality PCA','Money PCA']])\n",
    "    factors_temp.rename(columns={'Food Security PCA':'Food Security Factor','Diet Quality PCA':'Diet Quality Factor',\n",
    "                                 'Money PCA':'Money Factor'}, inplace=True)\n",
    "    \n",
    "else:\n",
    "    factors_temp = normalise(indicators[['Food Security PAF','Diet Quality PAF','Money PAF']])\n",
    "    factors_temp.rename(columns={'Food Security PAF':'Food Security Factor','Diet Quality PAF':'Diet Quality Factor',\n",
    "                                 'Money PAF':'Money Factor'}, inplace=True)\n",
    "\n",
    "indicators = pd.concat([indicators, factors_temp],axis=1)"
   ]
  },
  {
   "cell_type": "code",
   "execution_count": null,
   "metadata": {},
   "outputs": [],
   "source": [
    "# Check how correlated the factors are with each other\n",
    "indicators[['Food Security Factor','Diet Quality Factor','Money Factor']].corr()\n",
    "# seems reasonable"
   ]
  },
  {
   "cell_type": "code",
   "execution_count": null,
   "metadata": {
    "collapsed": true
   },
   "outputs": [],
   "source": [
    "# indicators.info()"
   ]
  },
  {
   "cell_type": "code",
   "execution_count": null,
   "metadata": {},
   "outputs": [],
   "source": [
    "# Check the distribution of the households with food insecurity missing\n",
    "indicators[['Country', 'FI missing', 'HHid']].groupby(['Country', 'FI missing']).count()"
   ]
  },
  {
   "cell_type": "code",
   "execution_count": null,
   "metadata": {
    "collapsed": true
   },
   "outputs": [],
   "source": [
    "# only Burkina Faso and Mali have some FI there and some missing, the others are split entirely by country\n",
    "# suggests that this is a slightly dodgy measure..."
   ]
  },
  {
   "cell_type": "code",
   "execution_count": null,
   "metadata": {},
   "outputs": [],
   "source": [
    "# Get ready to group by village\n",
    "indicators['Coun Reg Vill']=indicators['Country']+indicators['Region']+indicators['Village'].astype(str)\n",
    "indicators.head()"
   ]
  },
  {
   "cell_type": "code",
   "execution_count": null,
   "metadata": {
    "collapsed": true
   },
   "outputs": [],
   "source": [
    "def ols_params(x,y):\n",
    "    testmod = sm.OLS(y,sm.add_constant(x))\n",
    "    tes = testmod.fit()\n",
    "    a = tes.params[1]\n",
    "    s = tes.bse[1]\n",
    "    rsq = tes.rsquared\n",
    "    return (a,s, rsq)\n",
    "#ols_params(indic['CropDiv'], indic['Diet Quality Factor'])"
   ]
  },
  {
   "cell_type": "code",
   "execution_count": null,
   "metadata": {},
   "outputs": [],
   "source": [
    "# Look at crop and livestock diversity against the factors.\n",
    "# first, crop diversity by household;\n",
    "# the correlation coefficients are not very big,\n",
    "# but this does appear to vary by country.\n",
    "\n",
    "# get rid of the small number of missing values\n",
    "indic=indicators[indicators['CropDiv']<10000]\n",
    "indil=indicators[indicators['LivestockDiv']<10000]\n",
    "\n",
    "fig = plt.figure(figsize = (10,10))\n",
    "ax = fig.subplots(3)\n",
    "corrs = ['CropDiv','Money Factor','Food Security Factor','Diet Quality Factor']\n",
    "sns.regplot('CropDiv', 'Money Factor', data=indicators, ax=ax[0])\n",
    "#sns.lmplot('CropDiv', 'Money Factor', data=indicators, hue = 'Country')\n",
    "sns.regplot('CropDiv', 'Food Security Factor', data=indicators, ax=ax[1])\n",
    "#sns.lmplot('CropDiv', 'Food Security Factor', data=indicators, hue = 'Country')\n",
    "sns.regplot('CropDiv', 'Diet Quality Factor', data=indicators, ax=ax[2])\n",
    "#sns.lmplot('CropDiv', 'Diet Quality Factor', data=indicators, hue = 'Country')\n",
    "if analysis == \"PAF\":\n",
    "    fig.savefig('4 PAF 01 Crop diversity against factor scores by household')\n",
    "else:\n",
    "    fig.savefig('4 PCA 01 Crop diversity against factor scores by household')\n",
    "for i in range (3):\n",
    "    r=pearsonr(indic[corrs[0]],indic[corrs[1+i]])\n",
    "    (a,s, Rsq)=ols_params(indic['CropDiv'], indic[corrs[1+i]])\n",
    "    ax[i].text(20,-2.5-i*(2-i)*2, 'Corr coeff: '+str(round(r[0],3))+' Sig level: '+str(round(r[1],5))+' n = '+str(len(indic))+\n",
    "              '\\nReg coeff: '+str(round(a,3))+' Std err: '+str(round(s,3))+' Rsq: '+str(round(Rsq,3)))\n"
   ]
  },
  {
   "cell_type": "code",
   "execution_count": null,
   "metadata": {},
   "outputs": [],
   "source": [
    "data = np.array([[1,1],[2,6],[3,8],[7,30],[2,5]])\n",
    "df = pd.DataFrame(data, columns = ['Independent', 'Dependent'])\n",
    "df"
   ]
  },
  {
   "cell_type": "code",
   "execution_count": null,
   "metadata": {},
   "outputs": [],
   "source": [
    "testmod = sm.OLS(df['Dependent'],sm.add_constant(df['Independent']) )\n",
    "\n",
    "tes = testmod.fit()\n",
    "\n",
    "print(tes.summary())"
   ]
  },
  {
   "cell_type": "code",
   "execution_count": null,
   "metadata": {},
   "outputs": [],
   "source": [
    "tes.rsquared"
   ]
  },
  {
   "cell_type": "code",
   "execution_count": null,
   "metadata": {},
   "outputs": [],
   "source": [
    "tes.bse"
   ]
  },
  {
   "cell_type": "code",
   "execution_count": null,
   "metadata": {
    "collapsed": true
   },
   "outputs": [],
   "source": [
    "first_grouping_c = indic[['CropDiv','Food Security Factor',\n",
    "       'Diet Quality Factor', 'Money Factor', 'Coun Reg Vill']].groupby('Coun Reg Vill').mean()\n",
    "first_grouping_l = indil[['LivestockDiv','Food Security Factor',\n",
    "       'Diet Quality Factor', 'Money Factor', 'Coun Reg Vill']].groupby('Coun Reg Vill').mean()"
   ]
  },
  {
   "cell_type": "code",
   "execution_count": null,
   "metadata": {},
   "outputs": [],
   "source": [
    "# Repeat the scatter graphs by village, not by household\n",
    "# The correlation coefficients are now much larger, and the shapes can be seen on the scatter graphs\n",
    "fig = plt.figure(figsize = (10,12))\n",
    "axes = fig.subplots(3, gridspec_kw={'hspace':.4})\n",
    "for i in range(3):\n",
    "    axes[i].scatter(x=first_grouping_c['CropDiv'], y=first_grouping_c[first_grouping_c.columns[1+i]], alpha = .6)\n",
    "    axes[i].set_ylabel(str(first_grouping_c.columns[1+i]))\n",
    "    axes[i].set_xlabel('Average crop diversity in village')\n",
    "    rp = pearsonr(first_grouping_c['CropDiv'], first_grouping_c[first_grouping_c.columns[1+i]])\n",
    "    r = round(rp[0], 3)\n",
    "    p=round(rp[1],5)\n",
    "    (a, s, Rsq) = ols_params(first_grouping_c['CropDiv'], first_grouping_c[first_grouping_c.columns[1+i]])\n",
    "    axes[i].text(8.2,1+0.5*i*abs(1.667-i),'Corr coef: '+str(r)+' Sig level: '+str(p)+\n",
    "                 ' (n = '+str(len(first_grouping_c))+')'+\n",
    "              '\\nReg coeff: '+str(round(a,3))+' Std err: '+str(round(s,3))+' Rsq: '+str(round(Rsq,3)))\n",
    "if analysis=='PCA':\n",
    "    fig.savefig('4 PCA 02 Crop diversity against factor scores by village')\n",
    "else:\n",
    "    fig.savefig('4 PAF 02 Crop diversity against factor scores by village')"
   ]
  },
  {
   "cell_type": "code",
   "execution_count": null,
   "metadata": {},
   "outputs": [],
   "source": [
    "# for livestock diversity, all households\n",
    "# again, the coefficients are small but significant\n",
    "fig = plt.figure(figsize = (10,10))\n",
    "ax = fig.subplots(3)\n",
    "factors=['Food Security Factor','Diet Quality Factor','Money Factor']\n",
    "for i in range(3):\n",
    "    plot = sns.regplot('LivestockDiv', factors[i], data=indil, ax=ax[i])\n",
    "    rp = pearsonr(indil['LivestockDiv'], indil[factors[i]])\n",
    "    r = round(rp[0], 3)\n",
    "    p=round(rp[1],5)\n",
    "    (a, s, Rsq) = ols_params(indil['LivestockDiv'], indil[factors[i]])\n",
    "    plot.text(5.7,-3.2 + i*abs(1.667-i),'Pearson correlation coefficient: '+str(r)+'\\nSignificance level: '+str(p)+\n",
    "                 ' (n = '+str(len(indil))+')'+\n",
    "              '\\nReg coeff: '+str(round(a,3))+' Std err: '+str(round(s,3))+' Rsq: '+str(round(Rsq,3)))\n",
    "if analysis=='PCA':    \n",
    "    fig.savefig('4 PCA 03 Livestock diversity against factor scores by household')\n",
    "else:\n",
    "    fig.savefig('4 PAF 03 Livestock diversity against factor scores by household')"
   ]
  },
  {
   "cell_type": "code",
   "execution_count": null,
   "metadata": {},
   "outputs": [],
   "source": [
    "# this time the correlation coefficients are small even at the village level\n",
    "\n",
    "fig = plt.figure(figsize = (10,12))\n",
    "axes = fig.subplots(3, gridspec_kw={'hspace':.4})\n",
    "for i in range(3):\n",
    "    axes[i].scatter(x=first_grouping_l['LivestockDiv'], y=first_grouping_l[first_grouping_l.columns[1+i]], alpha = .6)\n",
    "    axes[i].set_ylabel(str(first_grouping_l.columns[1+i]))\n",
    "    axes[i].set_xlabel('Average livestock diversity in village')\n",
    "    rp = pearsonr(first_grouping_l['LivestockDiv'], first_grouping_l[first_grouping_l.columns[1+i]])\n",
    "    r = round(rp[0], 3)\n",
    "    p=round(rp[1],5)\n",
    "    (a, s, Rsq) = ols_params(first_grouping_l['LivestockDiv'], first_grouping_l[first_grouping_l.columns[1+i]])\n",
    "    axes[i].text(4.35,.8+0.4*i*abs(1.667-i),'Pearson correlation coefficient: '+str(r)+'\\nSignificance level: '+str(p)+\n",
    "                 ' (n = '+str(len(first_grouping_l))+')'+\n",
    "              '\\nReg coeff: '+str(round(a,3))+' Std err: '+str(round(s,3))+' Rsq: '+str(round(Rsq,3)))\n",
    "if analysis=='PAF':\n",
    "    fig.savefig('4 PAF 04 Livestock diversity against factor scores by village')\n",
    "else:\n",
    "    fig.savefig('4 PCA 04 Livestock diversity against factor scores by village')"
   ]
  },
  {
   "cell_type": "code",
   "execution_count": null,
   "metadata": {},
   "outputs": [],
   "source": [
    "len(indicators['Country'].unique())"
   ]
  },
  {
   "cell_type": "code",
   "execution_count": null,
   "metadata": {},
   "outputs": [],
   "source": [
    "fig = plt.figure(figsize = (12,12))\n",
    "#axes = fig.subplots(3, gridspec_kw={'hspace':.4, 'wspace':2})\n",
    "colours = ('red','green','blue','yellow','orange','black','purple','brown','grey','hotpink','teal')\n",
    "for i in range(3):\n",
    "    axes[i]=fig.add_axes([.07,0.667-0.333*i+.05,.55,0.26])\n",
    "    for j in range(11):\n",
    "        subset = indil[indil['Country']==indil['Country'].unique()[j]]\n",
    "        grouping = subset[['CropDiv', 'LivestockDiv','Food Security Factor',\n",
    "                               'Diet Quality Factor', 'Money Factor', 'Coun Reg Vill']].groupby('Coun Reg Vill').mean()\n",
    "        axes[i].scatter(x=grouping['LivestockDiv'], y=grouping[grouping.columns[2+i]], alpha = .6, color=colours[j])\n",
    "        axes[i].set_ylabel(str(grouping.columns[2+i]))\n",
    "        axes[i].set_xlabel('Average livestock diversity in village')\n",
    "        rp = pearsonr(grouping['LivestockDiv'], grouping[grouping.columns[2+i]])\n",
    "        r = round(rp[0], 3)\n",
    "        p = round(rp[1],5)\n",
    "        n = len(grouping)\n",
    "        (a, s, Rsq) = ols_params(grouping['LivestockDiv'], grouping[grouping.columns[2+i]])\n",
    "#        axes[i].text(7.5, 1.8+0.2*i-0.5*j*(10+i+i*(2-i))*0.1+0.1*i*(2-i), indicators['Country'].unique()[j]+'; r = '+str(r)+'; p = '+\n",
    "#                     str(p)+'; n = '+str(n)+';\\n   reg = '+str(round(a,3))+'; se = '+str(round(s,3))+\n",
    " #                    '; Rsq = '+str(round(Rsq,3)), color=colours[j])\n",
    "        axes[i].text(7.5,1.5+0.75*i*abs(1.667-i)-0.08*i*abs(1.667-i)*j-0.4*j, indicators['Country'].unique()[j]+': n = '+str(n)+';\\n   reg = '+str(round(a,3))+'; se = '+str(round(s,3))+\n",
    "                     '; Rsq = '+str(round(Rsq,3)), color=colours[j])\n",
    "if analysis=='PCA':\n",
    "    fig.savefig('4 PCA 05 Livestock diversity against factor scores by village by country')\n",
    "else:\n",
    "    fig.savefig('4 PAF 05 Livestock diversity against factor scores by village by country')\n",
    "\n"
   ]
  },
  {
   "cell_type": "code",
   "execution_count": null,
   "metadata": {},
   "outputs": [],
   "source": [
    "fig = plt.figure(figsize = (14,12))\n",
    "#axes = fig.subplots(3, gridspec_kw={'hspace':.4})\n",
    "colours = ('red','green','blue','yellow','orange','black','purple','brown','grey','hotpink','teal')\n",
    "for i in range(3):\n",
    "    axes[i]=fig.add_axes([.07,0.72-0.333*i+.05,.6,0.23])\n",
    "    for j in range(11):\n",
    "        subset = indic[indic['Country']==indic['Country'].unique()[j]]\n",
    "        grouping = subset[['CropDiv', 'LivestockDiv','Food Security Factor',\n",
    "                               'Diet Quality Factor', 'Money Factor', 'Coun Reg Vill']].groupby('Coun Reg Vill').mean()\n",
    "        axes[i].scatter(x=grouping['CropDiv'], y=grouping[grouping.columns[2+i]], alpha = .6, color=colours[j])\n",
    "        axes[i].set_ylabel(str(grouping.columns[2+i]))\n",
    "        axes[i].set_xlabel('Average crop diversity in village')\n",
    "        rp = pearsonr(grouping['CropDiv'], grouping[grouping.columns[2+i]])\n",
    "        r = round(rp[0], 3)\n",
    "        p = round(rp[1],5)\n",
    "        n = len(grouping)\n",
    "        (a,s,Rsq)=ols_params(grouping['CropDiv'], grouping[grouping.columns[2+i]])\n",
    "#        axes[i].text(14, 1.8+0.2*i-0.6*j*(10+i+i*(2-i))*0.1+0.1*i*(2-i), indicators['Country'].unique()[j]+'; r = '+str(r)+'; p = '+\n",
    " #                    str(p)+' (n = '+str(n)+')\\n   reg = '+str(round(a,3))+'; se = '+str(round(s,3))+\n",
    "  #                   '; Rsq = '+str(round(Rsq,3)), color=colours[j])\n",
    "        axes[i].text(14, 1.2+i*abs(1.667-i)-0.1*i*abs(1.667-i)*j-0.45*j, indicators['Country'].unique()[j]+': n = '+str(n)+'\\n   reg = '+str(round(a,3))+'; se = '+str(round(s,3))+\n",
    "                     '; Rsq = '+str(round(Rsq,3)), color=colours[j])\n",
    "\n",
    "if analysis == \"PCA\":\n",
    "    fig.savefig('4 PCA 06 Crop diversity against factor scores by village by country')\n",
    "else:\n",
    "    fig.savefig('4 PAF 06 Crop diversity against factor scores by village by country')"
   ]
  },
  {
   "cell_type": "code",
   "execution_count": null,
   "metadata": {
    "collapsed": true
   },
   "outputs": [],
   "source": [
    "# next, I want to split it up by market orientation\n",
    "# I had 4 market orientation quartiles before.\n",
    "prepc=indic[indic['FAMarketOrientation']<1.1]\n",
    "prepl=indil[indil['FAMarketOrientation']<1.1]\n",
    "\n",
    "second_grouping_c = prepc[['CropDiv', 'LivestockDiv','Food Security Factor',\n",
    "       'Diet Quality Factor', 'Money Factor', 'Coun Reg Vill', 'FAMarketOrientation']].groupby('Coun Reg Vill').mean()\n",
    "second_grouping_l = prepl[['CropDiv', 'LivestockDiv','Food Security Factor',\n",
    "       'Diet Quality Factor', 'Money Factor', 'Coun Reg Vill', 'FAMarketOrientation']].groupby('Coun Reg Vill').mean()"
   ]
  },
  {
   "cell_type": "code",
   "execution_count": null,
   "metadata": {
    "collapsed": true
   },
   "outputs": [],
   "source": [
    "second_grouping_c['MAQuartile']=0\n",
    "for j in range(4):\n",
    " #   print(second_grouping[['FAMarketOrientation','MAQuartile']][11:20])\n",
    "    q = second_grouping_c['FAMarketOrientation'].quantile(0.25*(j+1))\n",
    "  #  print(q)\n",
    "    second_grouping_c['MAQuartile']=np.where(second_grouping_c['FAMarketOrientation']>q, second_grouping_c['MAQuartile']+1, second_grouping_c['MAQuartile'])\n",
    "    \n",
    "second_grouping_l['MAQuartile']=0\n",
    "for j in range(4):\n",
    " #   print(second_grouping[['FAMarketOrientation','MAQuartile']][11:20])\n",
    "    q = second_grouping_l['FAMarketOrientation'].quantile(0.25*(j+1))\n",
    "  #  print(q)\n",
    "    second_grouping_l['MAQuartile']=np.where(second_grouping_l['FAMarketOrientation']>q, second_grouping_l['MAQuartile']+1, second_grouping_l['MAQuartile'])"
   ]
  },
  {
   "cell_type": "code",
   "execution_count": null,
   "metadata": {},
   "outputs": [],
   "source": [
    "second_grouping_l.info()"
   ]
  },
  {
   "cell_type": "code",
   "execution_count": null,
   "metadata": {},
   "outputs": [],
   "source": [
    "fig = plt.figure(figsize = (10,12))\n",
    "#axes = fig.subplots(3, gridspec_kw={'hspace':.4})\n",
    "colours = ('red','orange','green','blue')\n",
    "for i in range(3):\n",
    "    axes[i]=fig.add_axes([.07,0.667-0.333*i+.05,.55,0.22])\n",
    "    for j in range(4):\n",
    "        grouping = second_grouping_l[second_grouping_l['MAQuartile']==j]\n",
    "        axes[i].scatter(x=grouping['LivestockDiv'], y=grouping[grouping.columns[2+i]], alpha = .6, color=colours[j])\n",
    "        axes[i].set_ylabel(str(grouping.columns[2+i]))\n",
    "        axes[i].set_xlabel('Average livestock diversity in village')\n",
    "        rp = pearsonr(grouping['LivestockDiv'], grouping[grouping.columns[2+i]])\n",
    "        r = round(rp[0],3)\n",
    "        p = round(rp[1],5)\n",
    "        n = len(grouping)\n",
    "        (a, s, Rsq ) = ols_params(grouping['LivestockDiv'], grouping[grouping.columns[2+i]])\n",
    "#        axes[i].text(7.5, 1.8-0.8*j, 'MA Quartile '+str(j+1)+'; r = '+str(r)+'; p = '+str(p)+' (n = '+str(n)+')\\n   reg = '\n",
    " #                    +str(round(a,3))+'; se = '+str(round(s,3))+\n",
    "  #                   '; Rsq = '+str(round(Rsq,3)), color=colours[j])\n",
    "        axes[i].text(7.5, 1.4-0.8*j, 'MA Quartile '+str(j+1)+': n = '+str(n)+'\\n   reg = '\n",
    "                     +str(round(a,3))+'; se = '+str(round(s,3))+\n",
    "                     '; Rsq = '+str(round(Rsq,3)), color=colours[j])\n",
    "if analysis =='PAF':\n",
    "    fig.savefig('4 PAF 07 Livestock diversity against factor scores by village by MA quartile')\n",
    "else:\n",
    "    fig.savefig('4 PCA 07 Livestock diversity against factor scores by village by MA quartile')"
   ]
  },
  {
   "cell_type": "code",
   "execution_count": null,
   "metadata": {},
   "outputs": [],
   "source": [
    "fig = plt.figure(figsize = (14,12))\n",
    "#axes = fig.subplots(3, gridspec_kw={'hspace':.4})\n",
    "colours = ('red','orange','green','blue')\n",
    "for i in range(3):\n",
    "    axes[i]=fig.add_axes([.07,0.667-0.333*i+.05,.63,0.22])\n",
    "    for j in range(4):\n",
    "        grouping = second_grouping_c[second_grouping_c['MAQuartile']==j]\n",
    "        axes[i].scatter(x=grouping['CropDiv'], y=grouping[grouping.columns[2+i]], alpha = .6, color=colours[j])\n",
    "        axes[i].set_ylabel(str(grouping.columns[2+i]))\n",
    "        axes[i].set_xlabel('Average crop diversity in village')\n",
    "        rp = pearsonr(grouping['CropDiv'], grouping[grouping.columns[2+i]])\n",
    "        r = round(rp[0], 3)\n",
    "        p = round(rp[1],5)\n",
    "        n = len(grouping)\n",
    "        (a,s,Rsq) = ols_params(grouping['CropDiv'], grouping[grouping.columns[2+i]])\n",
    "#        axes[i].text(14, 1.8-0.8*j, 'MA Quartile '+str(j+1)+'; r = '+str(r)+'; p = '+str(p)+' (n = '+str(n)+')\\n   reg = '\n",
    " #                    +str(round(a,3))+'; se = '+str(round(s,3))+\n",
    "  #                   '; Rsq = '+str(round(Rsq,3)), color=colours[j])\n",
    "        axes[i].text(14, 1.4-0.8*j, 'MA Quartile '+str(j+1)+': n = '+str(n)+'\\n   reg = '\n",
    "                     +str(round(a,3))+'; se = '+str(round(s,3))+\n",
    "                     '; Rsq = '+str(round(Rsq,3)), color=colours[j])\n",
    "if analysis == 'PCA':\n",
    "    fig.savefig('4 PCA 08 Crop diversity against factor scores by village by MA quartile')\n",
    "else:\n",
    "    fig.savefig('4 PAF 08 Crop diversity against factor scores by village by MA quartile')"
   ]
  },
  {
   "cell_type": "code",
   "execution_count": null,
   "metadata": {},
   "outputs": [],
   "source": [
    "# make a column for the quartiles\n",
    "prepc['MAQuartile']=0\n",
    "for j in range(4):\n",
    " #   print(second_grouping[['FAMarketOrientation','MAQuartile']][11:20])\n",
    "    q = prepc['FAMarketOrientation'].quantile(0.25*(j+1))\n",
    "  #  print(q)\n",
    "    prepc['MAQuartile']=np.where(prepc['FAMarketOrientation']>q, prepc['MAQuartile']+1, prepc['MAQuartile'])\n",
    "    \n",
    "prepl['MAQuartile']=0\n",
    "for j in range(4):\n",
    " #   print(second_grouping[['FAMarketOrientation','MAQuartile']][11:20])\n",
    "    q = prepl['FAMarketOrientation'].quantile(0.25*(j+1))\n",
    "  #  print(q)\n",
    "    prepl['MAQuartile']=np.where(prepl['FAMarketOrientation']>q, prepl['MAQuartile']+1, prepl['MAQuartile'])"
   ]
  },
  {
   "cell_type": "code",
   "execution_count": null,
   "metadata": {},
   "outputs": [],
   "source": [
    "factors"
   ]
  },
  {
   "cell_type": "code",
   "execution_count": null,
   "metadata": {},
   "outputs": [],
   "source": [
    "fig = plt.figure(figsize = (14,12))\n",
    "#axes = fig.subplots(3, gridspec_kw={'hspace':.4})\n",
    "colours = ('red','orange','green','blue')\n",
    "for i in range(3):\n",
    "    for j in range(4):\n",
    "        axes=fig.add_axes([.07+0.24*j,0.667-0.333*i+.05,0.19,0.22])\n",
    "        grouping = prepl[prepl['MAQuartile']==j]\n",
    "        axes.scatter(x=grouping['LivestockDiv'], y=grouping[factors[i]], alpha = .1, color=colours[j])\n",
    "        axes.set_ylabel(str(factors[i]))\n",
    "        axes.set_xlabel('Livestock diversity')\n",
    "        rp = pearsonr(grouping['LivestockDiv'], grouping[factors[i]])\n",
    "        r = round(rp[0],3)\n",
    "        p = round(rp[1],5)\n",
    "        n = len(grouping)\n",
    "        (a,s,Rsq) = ols_params(grouping['LivestockDiv'], grouping[factors[i]])\n",
    "        axes.set_title('MA Quartile '+str(j+1)+': reg = '\n",
    "                     +str(round(a,3))+'; se = '+str(round(s,3))+\n",
    "                     ';\\n Rsq = '+str(round(Rsq,3))+' (n = '+str(n)+')', color=colours[j], size=10)\n",
    "if analysis == 'PCA':\n",
    "    fig.savefig('4 PCA 09 Livestock diversity against factor scores by household by MA quartile')\n",
    "else:\n",
    "    fig.savefig('4 PAF 09 Livestock diversity against factor scores by household by MA quartile')"
   ]
  },
  {
   "cell_type": "code",
   "execution_count": null,
   "metadata": {},
   "outputs": [],
   "source": [
    "fig = plt.figure(figsize = (16,12))\n",
    "#axes = fig.subplots(3, gridspec_kw={'hspace':.4})\n",
    "colours = ('red','orange','green','blue')\n",
    "for i in range(3):\n",
    "    for j in range(4):\n",
    "        axes=fig.add_axes([.07+0.24*j,0.667-0.333*i+.05,.19,0.22])\n",
    "        grouping = prepc[prepc['MAQuartile']==j]\n",
    "        axes.scatter(x=grouping['CropDiv'], y=grouping[factors[i]], alpha = .1, color=colours[j])\n",
    "        axes.set_ylabel(str(factors[i]))\n",
    "        axes.set_xlabel('Crop diversity')\n",
    "        rp = pearsonr(grouping['CropDiv'], grouping[factors[i]])\n",
    "        r = round(rp[0],3)\n",
    "        p = round(rp[1],5)\n",
    "        n = len(grouping)\n",
    "        (a,s,Rsq)=ols_params(grouping['CropDiv'], grouping[factors[i]])\n",
    "        axes.set_title('MA Quartile '+str(j+1)+': reg = '\n",
    "                     +str(round(a,3))+'; se = '+str(round(s,3))+\n",
    "                     ';\\n Rsq = '+str(round(Rsq,3))+' (n = '+str(n)+')', color=colours[j], size=10)\n",
    "if analysis == 'PCA':\n",
    "    fig.savefig('4 PCA 10 Crop diversity against factor scores by household by MA quartile')\n",
    "else:\n",
    "    fig.savefig('4 PAF 10 Crop diversity against factor scores by household by MA quartile')"
   ]
  },
  {
   "cell_type": "code",
   "execution_count": null,
   "metadata": {},
   "outputs": [],
   "source": [
    "if analysis == 'PCA':\n",
    "    sns.jointplot(x='CropDiv', y='FAMarketOrientation',data=indicators, alpha = .1).savefig('4 PCA 11 cropdiv by market orientation')\n",
    "    sns.jointplot(x='LivestockDiv', y='FAMarketOrientation',data=indicators, alpha=.1).savefig('4 PCA 12 livestockdiv by market orientation')\n",
    "    sns.jointplot(x='FAMarketOrientation', y='Money Factor',data=indicators, alpha=.1).savefig('4 PCA 13 market orientation by money')\n",
    "else:\n",
    "    sns.jointplot(x='CropDiv', y='FAMarketOrientation',data=indicators, alpha = .1).savefig('4 PAF 11 cropdiv by market orientation')\n",
    "    sns.jointplot(x='LivestockDiv', y='FAMarketOrientation',data=indicators, alpha=.1).savefig('4 PAF 12 livestockdiv by market orientation')\n",
    "    sns.jointplot(x='FAMarketOrientation', y='Money Factor',data=indicators, alpha=.1).savefig('4 PAF 13 market orientation by money')"
   ]
  },
  {
   "cell_type": "code",
   "execution_count": null,
   "metadata": {
    "scrolled": true
   },
   "outputs": [],
   "source": [
    "if analysis == 'PCA':\n",
    "    sns.jointplot(x='CropDiv', y='FAMarketOrientation',data=second_grouping_c, alpha = .5).savefig('4 PCA 14 cropdiv by market orientation')\n",
    "    sns.jointplot(x='LivestockDiv', y='FAMarketOrientation',data=second_grouping_l, alpha=.5).savefig('4 PCA 15 livestockdiv by market orientation')\n",
    "    sns.jointplot(x='FAMarketOrientation', y='Money Factor',data=second_grouping_l, alpha=.5).savefig('4 PCA 16 market orientation by money')\n",
    "else:\n",
    "    sns.jointplot(x='CropDiv', y='FAMarketOrientation',data=second_grouping_c, alpha = .5).savefig('4 PCA 14 cropdiv by market orientation')\n",
    "    sns.jointplot(x='LivestockDiv', y='FAMarketOrientation',data=second_grouping_l, alpha=.5).savefig('4 PCA 15 livestockdiv by market orientation')\n",
    "    sns.jointplot(x='FAMarketOrientation', y='Money Factor',data=second_grouping_l, alpha=.5).savefig('4 PCA 16 market orientation by money')"
   ]
  },
  {
   "cell_type": "code",
   "execution_count": null,
   "metadata": {},
   "outputs": [],
   "source": [
    "# and does Market Orientation affect crop/livestock diversity at the village level?\n",
    "sns.jointplot(x='FAMarketOrientation', y='CropDiv', data=second_grouping_c, alpha = .4).savefig('4 Market orientation and crop div by village')\n",
    "sns.jointplot(x='FAMarketOrientation', y='LivestockDiv', data=second_grouping_l, alpha = .4).savefig('4 Market orientation and livestock div by village')"
   ]
  },
  {
   "cell_type": "code",
   "execution_count": null,
   "metadata": {
    "collapsed": true
   },
   "outputs": [],
   "source": []
  }
 ],
 "metadata": {
  "kernelspec": {
   "display_name": "Python 3",
   "language": "python",
   "name": "python3"
  },
  "language_info": {
   "codemirror_mode": {
    "name": "ipython",
    "version": 3
   },
   "file_extension": ".py",
   "mimetype": "text/x-python",
   "name": "python",
   "nbconvert_exporter": "python",
   "pygments_lexer": "ipython3",
   "version": "3.6.3"
  }
 },
 "nbformat": 4,
 "nbformat_minor": 2
}
